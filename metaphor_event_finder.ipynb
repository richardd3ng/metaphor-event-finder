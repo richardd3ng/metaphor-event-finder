{
 "cells": [
  {
   "cell_type": "code",
   "execution_count": 85,
   "id": "3ed1ece0-219e-4355-b9a4-d0d37ac8c6ce",
   "metadata": {},
   "outputs": [],
   "source": [
    "import os\n",
    "import openai\n",
    "from metaphor_python import Metaphor\n",
    "import requests\n",
    "import datetime"
   ]
  },
  {
   "cell_type": "code",
   "execution_count": 3,
   "id": "1eba2ce6-512d-4c4d-b7bc-db61248344db",
   "metadata": {},
   "outputs": [],
   "source": [
    "metaphor = Metaphor(os.getenv(\"METAPHOR_API_KEY\"))\n",
    "openai.api_key = os.getenv(\"OPENAI_API_KEY\")"
   ]
  },
  {
   "cell_type": "code",
   "execution_count": 103,
   "id": "53c0fde8-5eb6-4d93-82f8-b4dced6d22d5",
   "metadata": {},
   "outputs": [],
   "source": [
    "def get_prev_date(days_ago):\n",
    "    current_date = datetime.datetime.today()\n",
    "    prev_date = current_date - datetime.timedelta(days=days_ago)\n",
    "    return one_month_ago.strftime('%Y-%m-%d')\n",
    "\n",
    "def metaphor_search(location, published_days_ago):\n",
    "    search_query = f\"Here are fun events and activities to do in {location}\"\n",
    "    response = metaphor.search(\n",
    "        search_query,\n",
    "        num_results=10,\n",
    "        use_autoprompt=True,\n",
    "        start_published_date=get_prev_date(published_days_ago)\n",
    "    )\n",
    "    return response"
   ]
  },
  {
   "cell_type": "code",
   "execution_count": 145,
   "id": "19210ad2-8718-4e45-9770-a6d8386dee6a",
   "metadata": {},
   "outputs": [
    {
     "name": "stdout",
     "output_type": "stream",
     "text": [
      "Title: ⚡ Kernel Launch SF: Reboot x The People's History of Tech · Luma\n",
      "URL: https://lu.ma/k3-sf\n",
      "ID: 41bQbXpQiU_fuBU7FYV2ew\n",
      "Score: 0.16605371236801147\n",
      "Published Date: 2023-09-01\n",
      "Author: None\n",
      "Extract: None\n",
      "\n",
      "Title: Nidhi Chanani Launches Her Graphic Novel for Kids, SUPER BOBA CAFE\n",
      "URL: https://www.eventbrite.com/e/nidhi-chanani-launches-her-graphic-novel-for-kids-super-boba-cafe-tickets-717457543827\n",
      "ID: BP3s80ZaZXWnO3pGjX5msw\n",
      "Score: 0.15099215507507324\n",
      "Published Date: 2023-09-11\n",
      "Author: None\n",
      "Extract: None\n",
      "\n",
      "Title: San Francisco Benefit Premiere \"The Art of Eating\"\n",
      "URL: https://www.eventbrite.com/e/san-francisco-benefit-premiere-the-art-of-eating-tickets-717318487907?aff=oddtdtcreator&quot;,&quot;text&quot;:&quot;GET\n",
      "ID: twB4nOYl6Vy48LTp9TzBSw\n",
      "Score: 0.14844566583633423\n",
      "Published Date: 2023-09-11\n",
      "Author: None\n",
      "Extract: None\n",
      "\n",
      "Title: Join us for OpenAIâs first developer conference on November 6 in San Francisco\n",
      "URL: https://openai.com/blog/announcing-openai-devday\n",
      "ID: pCINa3bM7i-8hZPUgaYGzw\n",
      "Score: 0.14786900579929352\n",
      "Published Date: 2023-09-06\n",
      "Author: Authors\n",
      "Extract: None\n",
      "\n",
      "Title: RSVP to SF Analytics Night. Sponsored by HYDRA | Partiful\n",
      "URL: https://partiful.com/e/gowvDVdnNcBLKUzfGOPv\n",
      "ID: 3p-ZBiXQ3V2pn8NIpGWJjA\n",
      "Score: 0.1462876796722412\n",
      "Published Date: 2023-09-12\n",
      "Author: None\n",
      "Extract: None\n",
      "\n",
      "Title: Party for the Parks\n",
      "URL: https://sanfranciscoparksalliance.org/event/party-for-the-parks/\n",
      "ID: vG2OGzW14slZiifrit6Uvg\n",
      "Score: 0.14523835480213165\n",
      "Published Date: 2023-09-01\n",
      "Author: None\n",
      "Extract: None\n",
      "\n",
      "Title: None\n",
      "URL: http://citylights.com/info/?fa=event&amp;event_id=3808\n",
      "ID: 6CnV_Rw47vykXuuFn-8b5A\n",
      "Score: 0.1451207548379898\n",
      "Published Date: 2023-08-31\n",
      "Author: None\n",
      "Extract: None\n",
      "\n",
      "Title: The Future of Sustainable Food\n",
      "URL: https://www.eventbrite.com/e/the-future-of-sustainable-food-tickets-715804298927\n",
      "ID: TezX-bmgacBSH6D9hzcwrg\n",
      "Score: 0.14383679628372192\n",
      "Published Date: 2023-09-01\n",
      "Author: None\n",
      "Extract: None\n",
      "\n",
      "Title: Off to Future Proof ! - The Big Picture\n",
      "URL: https://ritholtz.com/2023/09/off-to-future-proof/\n",
      "ID: Y2WnEiruCwUqxMHSxo7pCQ\n",
      "Score: 0.14303502440452576\n",
      "Published Date: 2023-09-08\n",
      "Author: Barry Ritholtz\n",
      "Extract: None\n",
      "\n",
      "Title: YPE Professional Clothing Swap\n",
      "URL: https://www.eventbrite.com/e/ype-professional-clothing-swap-tickets-716764049567\n",
      "ID: Eiaw-fbctjDL_iYl_4u6WQ\n",
      "Score: 0.14275404810905457\n",
      "Published Date: 2023-09-13\n",
      "Author: None\n",
      "Extract: None\n",
      "\n",
      "Autoprompt String: Here's a fun event to attend in San Francisco:\n"
     ]
    }
   ],
   "source": [
    "search_response = metaphor_search(\"San Francisco\", 30)\n",
    "print(search_response)"
   ]
  },
  {
   "cell_type": "code",
   "execution_count": 146,
   "id": "b802c426-e18a-442a-bce2-7c76269dd1e5",
   "metadata": {},
   "outputs": [],
   "source": [
    "def get_extracted_content(search_response):\n",
    "    extracted_content = []\n",
    "    for result in search_response.results:\n",
    "        extracted_content.append(metaphor.get_contents(result.id).contents[0])\n",
    "    return extracted_content"
   ]
  },
  {
   "cell_type": "code",
   "execution_count": 158,
   "id": "5fb4640f-a75c-40c7-a4f5-9abffec9e927",
   "metadata": {},
   "outputs": [],
   "source": [
    "extracted_content = get_extracted_content(search_response)"
   ]
  },
  {
   "cell_type": "code",
   "execution_count": 155,
   "id": "b5372b87-2fa6-4641-b02a-49d8a163e9c6",
   "metadata": {},
   "outputs": [],
   "source": [
    "# Summarize and translate content of a result\n",
    "def get_event_description(result, language):\n",
    "    SYSTEM_MESSAGE = f\"You are a helpful assistant that translates the content of a webpage regarding an upcoming event into {language}. Summarize the users input and be sure to provide the time and location details on a separate line on the bottom of your output if available.\"\n",
    "    completion = openai.ChatCompletion.create(\n",
    "        model=\"gpt-3.5-turbo\",\n",
    "        messages=[\n",
    "            {\"role\": \"system\", \"content\": SYSTEM_MESSAGE},\n",
    "            {\"role\": \"user\", \"content\": result.extract},\n",
    "        ],\n",
    "    )\n",
    "    translated_summary = completion.choices[0].message.content\n",
    "    return f\"Translated Summary for {result.title} in {language}:\\n{translated_summary}\""
   ]
  },
  {
   "cell_type": "code",
   "execution_count": 166,
   "id": "e73bec2f-3195-467c-9f53-9c16bd07d0f9",
   "metadata": {},
   "outputs": [
    {
     "name": "stdout",
     "output_type": "stream",
     "text": [
      "Translated Summary for The Future of Sustainable Food in English:\n",
      "Join us at \"The Future of Sustainable Food\" event on September 22, 2023, where we'll explore mouthwatering innovations and discuss how to create a more sustainable and resilient food system. The event will take place on Thursday, September 21, 2023, from 6:30 PM to 9:00 PM (Pacific Daylight Time) at 181 2nd Street, San Francisco, CA 94105. At this in-person gathering, we'll bring together industry experts, entrepreneurs, and enthusiasts to discuss the challenges and opportunities in sustainable food. Don't miss out on the chance to network with like-minded individuals, learn from inspiring speakers, and shape the future of food. Speakers will be announced soon.\n"
     ]
    }
   ],
   "source": [
    "event_description = get_event_description(extracted_content[7], \"English\")\n",
    "print(event_description)"
   ]
  },
  {
   "cell_type": "code",
   "execution_count": 157,
   "id": "62c3d867-6125-4cc8-ac68-8eb0d7933e48",
   "metadata": {},
   "outputs": [
    {
     "name": "stdout",
     "output_type": "stream",
     "text": [
      "Translated Summary for Nidhi Chanani Launches Her Graphic Novel for Kids, SUPER BOBA CAFE in Spanish:\n",
      "Únete a nosotros en la librería Mrs. Dalloway's el domingo 22 de octubre cuando la autora del Área de la Bahía, Nidhi Chanani, venga a lanzar su nueva novela gráfica para lectores de 8 a 12 años, Super Boba Cafe. El libro es el primero de una serie y es una novela gráfica dulce y mágica sobre una cafetería de boba, un monstruo que causa terremotos y un verano inolvidable. Nidhi leerá y discutirá su libro y firmará copias al final de su presentación.\n",
      "\n",
      "Fecha: Domingo 22 de octubre\n",
      "Lugar: Mrs. Dalloway's Bookstore\n",
      "\n",
      "Para reservar una copia de Super Boba Cafe en formato de bolsillo, haz clic aquí: https://www.mrsdalloways.com/book/9781419759574\n",
      "\n",
      "Para reservar una copia de Super Boba Cafe en tapa dura, haz clic aquí: https://www.mrsdalloways.com/book/9781419759567\n",
      "\n",
      "Este evento es gratuito, pero se solicita preinscripción. La inscripción finaliza a la 1:00 pm del 22 de octubre.\n",
      "\n",
      "Debido a la capacidad limitada del lugar, por favor regístrese solo si planea asistir.\n",
      "\n",
      "Debido a las limitaciones de espacio, es posible que no podamos acomodar a todas las personas en el evento, por lo que se recomienda registrarse temprano.\n",
      "\n",
      "Las personas sin registro serán acomodadas solo si hay espacio disponible.\n",
      "\n",
      "Pedimos a los asistentes que lleguen entre las 1:45 y las 2:00 PM para el evento.\n",
      "\n",
      "Por favor, deja a tus animales de compañía en casa.\n",
      "\n",
      "Etiquetas:\n",
      "- Eventos en Estados Unidos\n",
      "- Eventos en California\n"
     ]
    }
   ],
   "source": [
    "event_description = get_event_description(extracted_content[1], \"Spanish\")\n",
    "print(event_description)"
   ]
  },
  {
   "cell_type": "code",
   "execution_count": 159,
   "id": "1357fa1b-d741-4ae7-87fe-4b91d8d4d31b",
   "metadata": {},
   "outputs": [
    {
     "name": "stdout",
     "output_type": "stream",
     "text": [
      "Translated Summary for San Francisco Benefit Premiere \"The Art of Eating\" in French:\n",
      "Le documentaire de Gregory Bezat sur la vie dramatique de l'écrivaine californienne M.F.K. Fisher sera diffusé le dimanche 1er octobre. Il y aura deux projections du film intitulé \"The Art of Eating\" au Vogue Theater. La première projection aura lieu de 13h à 15h, suivie d'une conversation et d'une séance de questions-réponses avec le réalisateur Gregory Bezat, la fille de Fisher, Kennedy Friede Golden, et Celia Sack d'Omnivore Books. La deuxième projection aura lieu de 17h à 19h, suivie d'une conversation et d'une séance de questions-réponses avec le réalisateur Gregory Bezat, la fille de Fisher, Kennedy Friede Golden, et la cheffe Dominica Rice-Cisneros de Bombera.\n",
      "\n",
      "Il y aura également une réception VIP de 15h à 16h30 chez Thos. Moser Furniture, où les invités pourront déguster de la nourriture de Bi-Rite et du vin de Merriam Vineyards. Chaque invité recevra également des cadeaux exclusifs.\n",
      "\n",
      "Cet événement est une collecte de fonds pour le documentaire de Gregory Bezat et une partie du prix des billets est déductible des impôts. Pour plus d'informations sur le film et comment vous pouvez aider, visitez le site Web www.mfkfisherfilm.com/mfk.\n",
      "\n",
      "La liste des chefs, amis et admirateurs présentés dans le film comprend Alice Waters, Jacques Pepin, Ruth Reichl, Annie Lamott, Kennedy Friede Golden, Celia Sack, John Ash, Gayle Pirie, John Clark, Kyle et Katina Connaughton, Tanya Holland, Michele Anna Jordan, L. John Harris et Dominica Rice-Cisneros, entre autres.\n",
      "\n",
      "Le film raconte l'histoire de Mary Frances Kennedy Fisher, une écrivaine qui a révolutionné le monde culinaire américain en introduisant des sensibilités continentales. Le film couvre sa vie en France, à Hollywood, à Napa, à Sonoma et dans d'autres destinations surprenantes. Ses écrits sensuels sur la nourriture et le vin sont utilisés comme narration du film, qui aborde également des sujets tels que la menace de l'industrialisation de l'agriculture et des aliments surgelés, ainsi que les défis d'élever ses deux filles.\n"
     ]
    }
   ],
   "source": [
    "event_description = get_event_description(extracted_content[2], \"French\")\n",
    "print(event_description)"
   ]
  }
 ],
 "metadata": {
  "kernelspec": {
   "display_name": "Python 3 (ipykernel)",
   "language": "python",
   "name": "python3"
  },
  "language_info": {
   "codemirror_mode": {
    "name": "ipython",
    "version": 3
   },
   "file_extension": ".py",
   "mimetype": "text/x-python",
   "name": "python",
   "nbconvert_exporter": "python",
   "pygments_lexer": "ipython3",
   "version": "3.11.5"
  }
 },
 "nbformat": 4,
 "nbformat_minor": 5
}
